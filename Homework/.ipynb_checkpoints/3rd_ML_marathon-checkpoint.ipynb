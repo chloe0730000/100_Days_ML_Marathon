{
 "cells": [
  {
   "cell_type": "code",
   "execution_count": 1,
   "metadata": {},
   "outputs": [
    {
     "name": "stderr",
     "output_type": "stream",
     "text": [
      "//anaconda3/lib/python3.7/site-packages/lightgbm/__init__.py:46: UserWarning: Starting from version 2.2.1, the library file in distribution wheels for macOS is built by the Apple Clang (Xcode_8.3.3) compiler.\n",
      "This means that in case of installing LightGBM from PyPI via the ``pip install lightgbm`` command, you don't need to install the gcc compiler anymore.\n",
      "Instead of that, you need to install the OpenMP library, which is required for running LightGBM on the system with the Apple Clang compiler.\n",
      "You can install the OpenMP library by the following command: ``brew install libomp``.\n",
      "  \"You can install the OpenMP library by the following command: ``brew install libomp``.\", UserWarning)\n"
     ]
    }
   ],
   "source": [
    "import pandas as pd\n",
    "import re\n",
    "import numpy as np\n",
    "import matplotlib.pyplot as plt\n",
    "from sklearn import metrics\n",
    "from sklearn.preprocessing import StandardScaler\n",
    "from sklearn.preprocessing import MinMaxScaler\n",
    "from sklearn.model_selection import train_test_split\n",
    "from sklearn.model_selection import cross_val_score\n",
    "from sklearn.metrics import accuracy_score\n",
    "from sklearn.metrics import roc_auc_score\n",
    "from sklearn.model_selection import StratifiedKFold\n",
    "\n",
    "import lightgbm as lgb\n",
    "from sklearn.svm import SVC\n",
    "from sklearn.linear_model import LogisticRegression\n",
    "from sklearn.ensemble import RandomForestClassifier, GradientBoostingClassifier"
   ]
  },
  {
   "cell_type": "code",
   "execution_count": 2,
   "metadata": {},
   "outputs": [],
   "source": [
    "# train = pd.read_csv(\"/Users/chloe/Google Drive/Kaggle_Data/Kaggle_3rd_ML/train_data.csv\")\n",
    "# train[\"poi\"] = train[\"poi\"].map(lambda x: 1 if x==True else 0)\n",
    "# #train[\"salary\"] = train[\"salary\"].fillna(train[\"salary\"].mean())\n",
    "# #train = train.fillna(0)\n",
    "# train.columns"
   ]
  },
  {
   "cell_type": "code",
   "execution_count": 3,
   "metadata": {},
   "outputs": [],
   "source": [
    "# train\n",
    "\n"
   ]
  },
  {
   "cell_type": "code",
   "execution_count": 4,
   "metadata": {},
   "outputs": [],
   "source": [
    "\n",
    "# #plt.plot(np.log1p(train[\"exercised_stock_options\"]), np.log1p(train[\"restricted_stock\"]), 'o', color='black');"
   ]
  },
  {
   "cell_type": "code",
   "execution_count": 5,
   "metadata": {
    "_cell_guid": "b1076dfc-b9ad-4769-8c92-a6c4dae69d19",
    "_uuid": "8f2839f25d086af736a60e9eeb907d3b93b6e0e5"
   },
   "outputs": [],
   "source": [
    "train = pd.read_csv(\"/Users/chloe/Google Drive/Kaggle_Data/Kaggle_3rd_ML/train_data.csv\")\n",
    "test = pd.read_csv(\"/Users/chloe/Google Drive/Kaggle_Data/Kaggle_3rd_ML/test_features.csv\")\n",
    "sub = pd.read_csv(\"/Users/chloe/Google Drive/Kaggle_Data/Kaggle_3rd_ML/sample_submission.csv\")\n",
    "target = train[\"poi\"].map(lambda x: 1 if x==True else 0)\n",
    "test_name = test[\"name\"]\n",
    "del train[\"poi\"], train[\"name\"], test[\"name\"]\n",
    "data = pd.concat([train, test])\n",
    "data = data.reset_index()\n",
    "#data[\"has_email\"] = data.apply(lambda x: 1 if pd.notnull(x[\"email_address\"]) else 0, axis=1)\n",
    "#data[\"non-employee\"] = data.apply(lambda x: 1 if x[\"director_fees\"]!=0 else 0, axis=1)\n",
    "del data[\"index\"], data[\"email_address\"]"
   ]
  },
  {
   "cell_type": "code",
   "execution_count": 6,
   "metadata": {},
   "outputs": [],
   "source": [
    "# fillna with mean: salary \n",
    "data[\"salary\"] = data[\"salary\"].fillna(data[\"salary\"].mean())\n",
    "#data[\"bonus\"] = data[\"bonus\"].fillna(data[\"bonus\"].mean())\n",
    "data = data.fillna(0)"
   ]
  },
  {
   "cell_type": "code",
   "execution_count": 7,
   "metadata": {},
   "outputs": [
    {
     "data": {
      "text/plain": [
       "0    100\n",
       "1     13\n",
       "Name: poi, dtype: int64"
      ]
     },
     "execution_count": 7,
     "metadata": {},
     "output_type": "execute_result"
    }
   ],
   "source": [
    "# check the target is balance or not => imbalance\n",
    "target.value_counts()"
   ]
  },
  {
   "cell_type": "code",
   "execution_count": 8,
   "metadata": {},
   "outputs": [],
   "source": [
    "# feaure engineering \n",
    "\n",
    "data[\"% of stock exercise\"] = data.apply(lambda x: x[\"exercised_stock_options\"]/x[\"total_stock_value\"] if x[\"total_stock_value\"]!=0 else 0, axis=1)\n",
    "data[\"% of restricted stock\"] = data.apply(lambda x: x[\"restricted_stock\"]/x[\"total_stock_value\"] if x[\"total_stock_value\"]!=0 else 0, axis=1)\n",
    "data[\"total_earned\"] = data[\"bonus\"] + data[\"salary\"] \n",
    "data[\"% of message sent to poi\"] = data.apply(lambda x: x[\"from_this_person_to_poi\"]/x[\"from_messages\"] if x[\"from_messages\"]!=0 else 0, axis=1)\n",
    "data[\"% of message reply to poi\"] = data.apply(lambda x: x[\"from_this_person_to_poi\"]/x[\"from_poi_to_this_person\"] if x[\"from_poi_to_this_person\"]!=0 else 0, axis=1)\n",
    "data[\"% of loan advance from salary\"] = data.apply(lambda x: x[\"loan_advances\"]/x[\"salary\"] if x[\"salary\"]!=0 else 0, axis=1)\n",
    "data[\"all_deferral\"] = data[\"deferral_payments\"] + abs(data[\"deferred_income\"])\n",
    "\n",
    "\n",
    "\n",
    "# new\n",
    "#data[\"total_value\"] = data[\"total_payments\"] + data[\"total_stock_value\"] \n",
    "#data[\"business_spend\"] = data[\"other\"] + data[\"expenses\"]\n",
    "#data[\"% of incentives\"] = data.apply(lambda x: x[\"long_term_incentive\"]/x[\"total_payments\"] if x[\"total_payments\"]!=0 else 0, axis=1)\n",
    "#data[\"% expense\"] = data.apply(lambda x: x['expenses']/x['total_payments'] if x['total_payments']!=0 else 0, axis=1)\n",
    "\n",
    "#data[\"diff bw loan advance and incentive\"] = data[\"long_term_incentive\"] - data[\"loan_advances\"]\n",
    "\n",
    "#data[\"exercise_stock_x_restrict_stock\"] = data[\"exercised_stock_options\"]*data[\"restricted_stock\"]\n",
    "\n",
    "#data[\"extra\"] = data[\"total_payments\"]-data[\"expenses\"]-data[\"other\"]-data[\"deferral_payments\"]\n",
    "#data[\"% of extra to payment\"] = data.apply(lambda x: x[\"extra\"]/x[\"total_payments\"] if x[\"total_payments\"]!=0 else 0, axis=1)\n",
    "# data[\"has_loan_advance\"] = data[\"loan_advances\"].map(lambda x: 1 if x>0 else 0)\n",
    "# data[\"inv_deferral_income\"] = data.apply(lambda x: x[\"deferred_income\"]**-1 if x[\"deferred_income\"]!=0 else 0, axis=1)\n",
    "\n",
    "# data[\"all_cash_flow\"] = data[\"bonus\"]+data[\"deferral_payments\"]+data['deferred_income']+data[\"director_fees\"]+data[\"exercised_stock_options\"] + data['expenses']+data['long_term_incentive']+data['other']+data['restricted_stock']+data[\"restricted_stock_deferred\"]+data[\"salary\"]\n",
    "   \n",
    "# data[\"% of restricted stock deferred\"] = data.apply(lambda x: abs(x[\"restricted_stock_deferred\"])/x[\"restricted_stock\"] if x[\"restricted_stock\"]!=0 else 0, axis=1)\n",
    "# data[\"all_incentives\"] = data[\"long_term_incentive\"] + data['director_fees']\n",
    "# data[\"% of deferral payment\"] = data.apply(lambda x: x[\"deferral_payments\"]/x[\"total_payments\"] if x[\"total_payments\"]!=0 else 0, axis=1)\n",
    "\n",
    "# data[\"exercise_stock_x_salary\"] = data[\"exercised_stock_options\"]*data[\"salary\"]"
   ]
  },
  {
   "cell_type": "code",
   "execution_count": 9,
   "metadata": {},
   "outputs": [],
   "source": [
    "# # feature importance\n",
    "# train = data[:len(train)]\n",
    "# test_scale = data[len(train):]\n",
    "\n",
    "# X_train, X_test, y_train, y_test = train_test_split(train, target.values, test_size=0.2, random_state=42)\n",
    "\n",
    "# rf = RandomForestClassifier()\n",
    "# rf.fit(X_train, y_train)\n",
    "# rf.score(X_test, y_test)\n",
    "# #zip(rf.feature_importances_\n",
    "# feature_importances = pd.DataFrame(rf.feature_importances_,\n",
    "#                                    index = train.columns,\n",
    "#                                     columns=['importance']).sort_values('importance', ascending=False)\n",
    "# feature_importances"
   ]
  },
  {
   "cell_type": "code",
   "execution_count": 10,
   "metadata": {},
   "outputs": [],
   "source": [
    "# scale the numerical data\n",
    "#scaler = StandardScaler()\n",
    "scaler = MinMaxScaler()\n",
    "data = scaler.fit_transform(data)\n",
    "\n",
    "\n",
    "columns = train.columns\n",
    "# split data to train and test\n",
    "\n",
    "train = data[:len(train)]\n",
    "test_scale = data[len(train):]"
   ]
  },
  {
   "cell_type": "code",
   "execution_count": 11,
   "metadata": {},
   "outputs": [],
   "source": [
    "# # feature importance\n",
    "# X_train, X_test, y_train, y_test = train_test_split(train, target.values, test_size=0.2, random_state=42)\n",
    "\n",
    "# rf = RandomForestClassifier()\n",
    "# rf.fit(X_train, y_train)\n",
    "# rf.score(X_test, y_test)\n",
    "# #zip(rf.feature_importances_\n",
    "# feature_importances = pd.DataFrame(rf.feature_importances_,\n",
    "#                                    index = range(0,24),\n",
    "#                                     columns=['importance']).sort_values('importance', ascending=False)\n",
    "# feature_importances"
   ]
  },
  {
   "cell_type": "code",
   "execution_count": 12,
   "metadata": {},
   "outputs": [
    {
     "name": "stdout",
     "output_type": "stream",
     "text": [
      "straified score:  0.7883333333333333\n"
     ]
    }
   ],
   "source": [
    "# baseline model -> logistic (test data result not good)\n",
    "\n",
    "# X_train, X_test, y_train, y_test = train_test_split(train, target.values, test_size=0.2, random_state=42)\n",
    "# clf = LogisticRegression(random_state=0, solver='lbfgs', class_weight='balanced', C=0.5)\n",
    "# clf.fit(X_train, y_train)\n",
    "# y_pred = clf.predict(X_test)\n",
    "# y_pred_prob = clf.predict_proba(X_test)[:,1]\n",
    "# lr_prob = clf.predict_proba(test_scale)[:,1]\n",
    "# print(\"auc score: \", roc_auc_score(y_test, y_pred_prob))\n",
    "\n",
    "cv_score = []\n",
    "lr_cv_pred = np.zeros(len(test_scale))\n",
    "skf = StratifiedKFold(n_splits=5)\n",
    "\n",
    "for train_index, test_index in skf.split(train, target.values):\n",
    "    X_train, X_test = train[train_index], train[test_index]\n",
    "    y_train, y_test = target[train_index], target[test_index]\n",
    "    clf = LogisticRegression(random_state=0, solver='lbfgs', class_weight='balanced', C=10)\n",
    "    clf.fit(X_train, y_train)\n",
    "    y_pred_prob = clf.predict_proba(X_test)[:,1]\n",
    "    lr_prob = clf.predict_proba(test_scale)[:,1]\n",
    "    #rf_cv_pred.append(rf_prob)\n",
    "    lr_cv_pred+=lr_prob\n",
    "    cv_score.append(roc_auc_score(y_test, y_pred_prob))\n",
    "print('straified score: ', np.mean(cv_score))\n"
   ]
  },
  {
   "cell_type": "code",
   "execution_count": 13,
   "metadata": {},
   "outputs": [
    {
     "name": "stdout",
     "output_type": "stream",
     "text": [
      "straified score:  0.8066666666666666\n"
     ]
    }
   ],
   "source": [
    "# random forest\n",
    "\n",
    "# X_train, X_test, y_train, y_test = train_test_split(train, target.values, test_size=0.2, random_state=42)\n",
    "# rf = RandomForestClassifier(n_estimators=100, random_state=0)\n",
    "# rf.fit(X_train, y_train)\n",
    "# y_pred_prob = rf.predict_proba(X_test)[:,1]\n",
    "# rf_prob = rf.predict_proba(test_scale)[:,1]\n",
    "# print(\"auc score: \", roc_auc_score(y_test, y_pred_prob))\n",
    "\n",
    "\n",
    "cv_score = []\n",
    "rf_cv_pred = np.zeros(len(test_scale))\n",
    "skf = StratifiedKFold(n_splits=5)\n",
    "\n",
    "for train_index, test_index in skf.split(train, target.values):\n",
    "    X_train, X_test = train[train_index], train[test_index]\n",
    "    y_train, y_test = target[train_index], target[test_index]\n",
    "    rf = RandomForestClassifier(n_estimators=100, random_state=0)\n",
    "    rf.fit(X_train, y_train)\n",
    "    y_pred_prob = rf.predict_proba(X_test)[:,1]\n",
    "    rf_prob = rf.predict_proba(test_scale)[:,1]\n",
    "    #rf_cv_pred.append(rf_prob)\n",
    "    rf_cv_pred+=rf_prob\n",
    "    cv_score.append(roc_auc_score(y_test, y_pred_prob))\n",
    "print('straified score: ', np.mean(cv_score))"
   ]
  },
  {
   "cell_type": "code",
   "execution_count": 14,
   "metadata": {},
   "outputs": [
    {
     "name": "stdout",
     "output_type": "stream",
     "text": [
      "straified score:  0.7733333333333334\n"
     ]
    }
   ],
   "source": [
    "# gradient boost\n",
    "\n",
    "\n",
    "# X_train, X_test, y_train, y_test = train_test_split(train, target.values, test_size=0.2, random_state=42)\n",
    "# gb = GradientBoostingClassifier(n_estimators=100, random_state=0)\n",
    "# gb.fit(X_train, y_train)\n",
    "# y_pred_prob = gb.predict_proba(X_test)[:,1]\n",
    "# gb_prob = gb.predict_proba(test_scale)[:,1]\n",
    "# print(\"auc score: \", roc_auc_score(y_test, y_pred_prob))\n",
    "\n",
    "cv_score = []\n",
    "gb_cv_pred = np.zeros(len(test_scale))\n",
    "skf = StratifiedKFold(n_splits=5)\n",
    "\n",
    "for train_index, test_index in skf.split(train, target.values):\n",
    "    X_train, X_test = train[train_index], train[test_index]\n",
    "    y_train, y_test = target[train_index], target[test_index]\n",
    "    gb = GradientBoostingClassifier(n_estimators=300, random_state=0)\n",
    "    gb.fit(X_train, y_train)\n",
    "    y_pred_prob = gb.predict_proba(X_test)[:,1]\n",
    "    gb_prob = gb.predict_proba(test_scale)[:,1]\n",
    "    #rf_cv_pred.append(rf_prob)\n",
    "    gb_cv_pred+=gb_prob\n",
    "    cv_score.append(roc_auc_score(y_test, y_pred_prob))\n",
    "print('straified score: ', np.mean(cv_score))"
   ]
  },
  {
   "cell_type": "code",
   "execution_count": 15,
   "metadata": {},
   "outputs": [],
   "source": [
    "# output\n",
    "output = sub\n",
    "output[\"poi\"] = rf_cv_pred/5 \n",
    "#output[\"poi_lr\"] = lr_prob\n",
    "#output[\"poi_rf\"] = rf_prob\n",
    "#output[\"poi_gb\"] = gb_prob\n",
    "output.to_csv(\"rf_stratified_engineering.csv\", index=False)"
   ]
  },
  {
   "cell_type": "code",
   "execution_count": null,
   "metadata": {},
   "outputs": [],
   "source": []
  }
 ],
 "metadata": {
  "kernelspec": {
   "display_name": "Python 3",
   "language": "python",
   "name": "python3"
  },
  "language_info": {
   "codemirror_mode": {
    "name": "ipython",
    "version": 3
   },
   "file_extension": ".py",
   "mimetype": "text/x-python",
   "name": "python",
   "nbconvert_exporter": "python",
   "pygments_lexer": "ipython3",
   "version": "3.7.3"
  }
 },
 "nbformat": 4,
 "nbformat_minor": 1
}
