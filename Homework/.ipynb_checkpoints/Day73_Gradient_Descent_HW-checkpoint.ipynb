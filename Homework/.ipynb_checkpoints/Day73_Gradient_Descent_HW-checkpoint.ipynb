{
 "cells": [
  {
   "cell_type": "markdown",
   "metadata": {},
   "source": [
    "# 作業重點\n",
    "\n",
    "使用function y=(x+5)² 來練習學習率( leanrning rate ) 調整所造成的影響"
   ]
  },
  {
   "cell_type": "markdown",
   "metadata": {},
   "source": [
    "# 作業目標:\n",
    "    請嘗試使用不同的組合驗證 learning rate 對所需 iteration 的影響\n",
    "    lr = [0.1, 0.0001]\n",
    "    主要驗證 Lr 對於grandient 收斂的速度\n",
    "    "
   ]
  },
  {
   "cell_type": "code",
   "execution_count": 75,
   "metadata": {
    "scrolled": false
   },
   "outputs": [
    {
     "name": "stdout",
     "output_type": "stream",
     "text": [
      "learning rate:  0.5 max iteration:  2 initial point:  -5.0\n",
      "learning rate:  0.1 max iteration:  66 initial point:  -4.999996786123911\n",
      "learning rate:  0.01 max iteration:  595 initial point:  -4.9999518490318176\n",
      "learning rate:  0.001 max iteration:  4837 initial point:  -4.999501668667748\n",
      "learning rate:  1e-06 max iteration:  10000 initial point:  2.8415892296220417\n"
     ]
    }
   ],
   "source": [
    "'''\n",
    "需要執行初始值設定, 下列三個\n",
    "# Learning rate\n",
    "#iteration counter\n",
    "#Step size  \n",
    "'''\n",
    "\n",
    "for i in range(len(lr)):\n",
    "    \n",
    "    cur_x = 3 # The algorithm starts at x=3\n",
    "    precision = 0.000001 #This tells us when to stop the algorithm\n",
    "    max_iters = 10000 # maximum number of iterations\n",
    "    df = lambda x: 2*(x+5) #Gradient of our function \n",
    "    lr = [0.5, 0.1,0.01, 0.001, 0.000001]\n",
    "    previous_step_size=1\n",
    "\n",
    "    iters = 0\n",
    "    iters_history = []\n",
    "    cur_x_history = []\n",
    "    \n",
    "    while previous_step_size > precision and iters < max_iters:\n",
    "        prev_x = cur_x\n",
    "        cur_x = cur_x - lr[i]*df(prev_x)\n",
    "        previous_step_size = abs(cur_x-prev_x)\n",
    "        iters = iters+1\n",
    "\n",
    "        #print(\"numbers of iteration: \", iters, \"initial point x: \", cur_x)\n",
    "        iters_history.append(iters)\n",
    "        cur_x_history.append(cur_x)\n",
    "    print(\"learning rate: \", lr[i], \"max iteration: \", iters_history[-1], \"initial point: \", cur_x_history[-1])\n",
    "    "
   ]
  },
  {
   "cell_type": "code",
   "execution_count": null,
   "metadata": {},
   "outputs": [],
   "source": []
  }
 ],
 "metadata": {
  "kernelspec": {
   "display_name": "Python 3",
   "language": "python",
   "name": "python3"
  },
  "language_info": {
   "codemirror_mode": {
    "name": "ipython",
    "version": 3
   },
   "file_extension": ".py",
   "mimetype": "text/x-python",
   "name": "python",
   "nbconvert_exporter": "python",
   "pygments_lexer": "ipython3",
   "version": "3.7.3"
  }
 },
 "nbformat": 4,
 "nbformat_minor": 2
}
