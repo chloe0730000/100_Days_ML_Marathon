{
 "cells": [
  {
   "cell_type": "markdown",
   "metadata": {},
   "source": [
    "## Common used techniques\n",
    "- for categorical variable -> label encoding, one-hot-encode"
   ]
  },
  {
   "cell_type": "code",
   "execution_count": 22,
   "metadata": {},
   "outputs": [],
   "source": [
    "import os\n",
    "import numpy as np\n",
    "import pandas as pd\n",
    "import warnings\n",
    "warnings.filterwarnings(\"ignore\")\n",
    "from sklearn.preprocessing import LabelEncoder\n",
    "\n",
    "# read file\n",
    "dir_data = '/Users/chloe/Google Drive/Kaggle_Data/kaggle_home_credit_default_risk/'\n",
    "f_app_train = os.path.join(dir_data, 'application_train.csv')\n",
    "df_train = pd.read_csv(f_app_train)"
   ]
  },
  {
   "cell_type": "markdown",
   "metadata": {},
   "source": [
    "### Label encoding & one-hot-encode"
   ]
  },
  {
   "cell_type": "code",
   "execution_count": 27,
   "metadata": {},
   "outputs": [
    {
     "name": "stdout",
     "output_type": "stream",
     "text": [
      "---- label encode mapping ---- \n",
      "\n",
      "    WEEKDAY_APPR_PROCESS_START  label_encode\n",
      "11                     FRIDAY             0\n",
      "1                      MONDAY             1\n",
      "10                   SATURDAY             2\n",
      "6                      SUNDAY             3\n",
      "4                    THURSDAY             4\n",
      "29                    TUESDAY             5\n",
      "0                   WEDNESDAY             6 \n",
      "\n",
      "one hot encode columns output: \n",
      "\n",
      " Index(['label_encode', 'WEEKDAY_APPR_PROCESS_START_FRIDAY',\n",
      "       'WEEKDAY_APPR_PROCESS_START_MONDAY',\n",
      "       'WEEKDAY_APPR_PROCESS_START_SATURDAY',\n",
      "       'WEEKDAY_APPR_PROCESS_START_SUNDAY',\n",
      "       'WEEKDAY_APPR_PROCESS_START_THURSDAY',\n",
      "       'WEEKDAY_APPR_PROCESS_START_TUESDAY',\n",
      "       'WEEKDAY_APPR_PROCESS_START_WEDNESDAY'],\n",
      "      dtype='object')\n"
     ]
    },
    {
     "data": {
      "text/html": [
       "<div>\n",
       "<style scoped>\n",
       "    .dataframe tbody tr th:only-of-type {\n",
       "        vertical-align: middle;\n",
       "    }\n",
       "\n",
       "    .dataframe tbody tr th {\n",
       "        vertical-align: top;\n",
       "    }\n",
       "\n",
       "    .dataframe thead th {\n",
       "        text-align: right;\n",
       "    }\n",
       "</style>\n",
       "<table border=\"1\" class=\"dataframe\">\n",
       "  <thead>\n",
       "    <tr style=\"text-align: right;\">\n",
       "      <th></th>\n",
       "      <th>label_encode</th>\n",
       "      <th>WEEKDAY_APPR_PROCESS_START_FRIDAY</th>\n",
       "      <th>WEEKDAY_APPR_PROCESS_START_MONDAY</th>\n",
       "      <th>WEEKDAY_APPR_PROCESS_START_SATURDAY</th>\n",
       "      <th>WEEKDAY_APPR_PROCESS_START_SUNDAY</th>\n",
       "      <th>WEEKDAY_APPR_PROCESS_START_THURSDAY</th>\n",
       "      <th>WEEKDAY_APPR_PROCESS_START_TUESDAY</th>\n",
       "      <th>WEEKDAY_APPR_PROCESS_START_WEDNESDAY</th>\n",
       "    </tr>\n",
       "  </thead>\n",
       "  <tbody>\n",
       "    <tr>\n",
       "      <th>0</th>\n",
       "      <td>6</td>\n",
       "      <td>0</td>\n",
       "      <td>0</td>\n",
       "      <td>0</td>\n",
       "      <td>0</td>\n",
       "      <td>0</td>\n",
       "      <td>0</td>\n",
       "      <td>1</td>\n",
       "    </tr>\n",
       "    <tr>\n",
       "      <th>1</th>\n",
       "      <td>1</td>\n",
       "      <td>0</td>\n",
       "      <td>1</td>\n",
       "      <td>0</td>\n",
       "      <td>0</td>\n",
       "      <td>0</td>\n",
       "      <td>0</td>\n",
       "      <td>0</td>\n",
       "    </tr>\n",
       "  </tbody>\n",
       "</table>\n",
       "</div>"
      ],
      "text/plain": [
       "   label_encode  WEEKDAY_APPR_PROCESS_START_FRIDAY  \\\n",
       "0             6                                  0   \n",
       "1             1                                  0   \n",
       "\n",
       "   WEEKDAY_APPR_PROCESS_START_MONDAY  WEEKDAY_APPR_PROCESS_START_SATURDAY  \\\n",
       "0                                  0                                    0   \n",
       "1                                  1                                    0   \n",
       "\n",
       "   WEEKDAY_APPR_PROCESS_START_SUNDAY  WEEKDAY_APPR_PROCESS_START_THURSDAY  \\\n",
       "0                                  0                                    0   \n",
       "1                                  0                                    0   \n",
       "\n",
       "   WEEKDAY_APPR_PROCESS_START_TUESDAY  WEEKDAY_APPR_PROCESS_START_WEDNESDAY  \n",
       "0                                   0                                     1  \n",
       "1                                   0                                     0  "
      ]
     },
     "execution_count": 27,
     "metadata": {},
     "output_type": "execute_result"
    }
   ],
   "source": [
    "# label encode\n",
    "sub_train = df_train[[\"WEEKDAY_APPR_PROCESS_START\"]]\n",
    "le = LabelEncoder()\n",
    "sub_train[\"label_encode\"] = le.fit_transform(sub_train)\n",
    "\n",
    "print(\"---- label encode mapping ---- \\n\\n\",\n",
    "      sub_train.drop_duplicates(subset=[\"WEEKDAY_APPR_PROCESS_START\"]).sort_values(by=\"label_encode\", ascending=True),\n",
    "     \"\\n\")\n",
    "\n",
    "# one hot encode\n",
    "sub_train = pd.get_dummies(sub_train, columns=[\"WEEKDAY_APPR_PROCESS_START\"])\n",
    "print(\"one hot encode columns output: \\n\\n\", sub_train.columns)\n",
    "sub_train.head(2)"
   ]
  },
  {
   "cell_type": "code",
   "execution_count": null,
   "metadata": {},
   "outputs": [],
   "source": []
  }
 ],
 "metadata": {
  "kernelspec": {
   "display_name": "Python 3",
   "language": "python",
   "name": "python3"
  },
  "language_info": {
   "codemirror_mode": {
    "name": "ipython",
    "version": 3
   },
   "file_extension": ".py",
   "mimetype": "text/x-python",
   "name": "python",
   "nbconvert_exporter": "python",
   "pygments_lexer": "ipython3",
   "version": "3.7.3"
  }
 },
 "nbformat": 4,
 "nbformat_minor": 2
}
