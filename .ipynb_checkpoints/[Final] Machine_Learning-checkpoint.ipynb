{
 "cells": [
  {
   "cell_type": "markdown",
   "metadata": {},
   "source": [
    "## Common used techniques\n",
    "- for categorical variable -> label encoding, one-hot-encode\n",
    "- remove outlier before modelling\n",
    "    - a. change min, max range\n",
    "    - b. directly remove"
   ]
  },
  {
   "cell_type": "markdown",
   "metadata": {},
   "source": [
    "### Label encoding & one-hot-encode"
   ]
  },
  {
   "cell_type": "code",
   "execution_count": 27,
   "metadata": {},
   "outputs": [
    {
     "name": "stdout",
     "output_type": "stream",
     "text": [
      "---- label encode mapping ---- \n",
      "\n",
      "    WEEKDAY_APPR_PROCESS_START  label_encode\n",
      "11                     FRIDAY             0\n",
      "1                      MONDAY             1\n",
      "10                   SATURDAY             2\n",
      "6                      SUNDAY             3\n",
      "4                    THURSDAY             4\n",
      "29                    TUESDAY             5\n",
      "0                   WEDNESDAY             6 \n",
      "\n",
      "one hot encode columns output: \n",
      "\n",
      " Index(['label_encode', 'WEEKDAY_APPR_PROCESS_START_FRIDAY',\n",
      "       'WEEKDAY_APPR_PROCESS_START_MONDAY',\n",
      "       'WEEKDAY_APPR_PROCESS_START_SATURDAY',\n",
      "       'WEEKDAY_APPR_PROCESS_START_SUNDAY',\n",
      "       'WEEKDAY_APPR_PROCESS_START_THURSDAY',\n",
      "       'WEEKDAY_APPR_PROCESS_START_TUESDAY',\n",
      "       'WEEKDAY_APPR_PROCESS_START_WEDNESDAY'],\n",
      "      dtype='object')\n"
     ]
    },
    {
     "data": {
      "text/html": [
       "<div>\n",
       "<style scoped>\n",
       "    .dataframe tbody tr th:only-of-type {\n",
       "        vertical-align: middle;\n",
       "    }\n",
       "\n",
       "    .dataframe tbody tr th {\n",
       "        vertical-align: top;\n",
       "    }\n",
       "\n",
       "    .dataframe thead th {\n",
       "        text-align: right;\n",
       "    }\n",
       "</style>\n",
       "<table border=\"1\" class=\"dataframe\">\n",
       "  <thead>\n",
       "    <tr style=\"text-align: right;\">\n",
       "      <th></th>\n",
       "      <th>label_encode</th>\n",
       "      <th>WEEKDAY_APPR_PROCESS_START_FRIDAY</th>\n",
       "      <th>WEEKDAY_APPR_PROCESS_START_MONDAY</th>\n",
       "      <th>WEEKDAY_APPR_PROCESS_START_SATURDAY</th>\n",
       "      <th>WEEKDAY_APPR_PROCESS_START_SUNDAY</th>\n",
       "      <th>WEEKDAY_APPR_PROCESS_START_THURSDAY</th>\n",
       "      <th>WEEKDAY_APPR_PROCESS_START_TUESDAY</th>\n",
       "      <th>WEEKDAY_APPR_PROCESS_START_WEDNESDAY</th>\n",
       "    </tr>\n",
       "  </thead>\n",
       "  <tbody>\n",
       "    <tr>\n",
       "      <th>0</th>\n",
       "      <td>6</td>\n",
       "      <td>0</td>\n",
       "      <td>0</td>\n",
       "      <td>0</td>\n",
       "      <td>0</td>\n",
       "      <td>0</td>\n",
       "      <td>0</td>\n",
       "      <td>1</td>\n",
       "    </tr>\n",
       "    <tr>\n",
       "      <th>1</th>\n",
       "      <td>1</td>\n",
       "      <td>0</td>\n",
       "      <td>1</td>\n",
       "      <td>0</td>\n",
       "      <td>0</td>\n",
       "      <td>0</td>\n",
       "      <td>0</td>\n",
       "      <td>0</td>\n",
       "    </tr>\n",
       "  </tbody>\n",
       "</table>\n",
       "</div>"
      ],
      "text/plain": [
       "   label_encode  WEEKDAY_APPR_PROCESS_START_FRIDAY  \\\n",
       "0             6                                  0   \n",
       "1             1                                  0   \n",
       "\n",
       "   WEEKDAY_APPR_PROCESS_START_MONDAY  WEEKDAY_APPR_PROCESS_START_SATURDAY  \\\n",
       "0                                  0                                    0   \n",
       "1                                  1                                    0   \n",
       "\n",
       "   WEEKDAY_APPR_PROCESS_START_SUNDAY  WEEKDAY_APPR_PROCESS_START_THURSDAY  \\\n",
       "0                                  0                                    0   \n",
       "1                                  0                                    0   \n",
       "\n",
       "   WEEKDAY_APPR_PROCESS_START_TUESDAY  WEEKDAY_APPR_PROCESS_START_WEDNESDAY  \n",
       "0                                   0                                     1  \n",
       "1                                   0                                     0  "
      ]
     },
     "execution_count": 27,
     "metadata": {},
     "output_type": "execute_result"
    }
   ],
   "source": [
    "import os\n",
    "import numpy as np\n",
    "import pandas as pd\n",
    "import warnings\n",
    "warnings.filterwarnings(\"ignore\")\n",
    "from sklearn.preprocessing import LabelEncoder\n",
    "\n",
    "# read file\n",
    "dir_data = '/Users/chloe/Google Drive/Kaggle_Data/kaggle_home_credit_default_risk/'\n",
    "f_app_train = os.path.join(dir_data, 'application_train.csv')\n",
    "df_train = pd.read_csv(f_app_train)\n",
    "\n",
    "\n",
    "# label encode\n",
    "sub_train = df_train[[\"WEEKDAY_APPR_PROCESS_START\"]]\n",
    "le = LabelEncoder()\n",
    "sub_train[\"label_encode\"] = le.fit_transform(sub_train)\n",
    "\n",
    "print(\"---- label encode mapping ---- \\n\\n\",\n",
    "      sub_train.drop_duplicates(subset=[\"WEEKDAY_APPR_PROCESS_START\"]).sort_values(by=\"label_encode\", ascending=True),\n",
    "     \"\\n\")\n",
    "\n",
    "# one hot encode\n",
    "sub_train = pd.get_dummies(sub_train, columns=[\"WEEKDAY_APPR_PROCESS_START\"])\n",
    "print(\"one hot encode columns output: \\n\\n\", sub_train.columns)\n",
    "sub_train.head(2)"
   ]
  },
  {
   "cell_type": "markdown",
   "metadata": {},
   "source": [
    "### Remove outlier"
   ]
  },
  {
   "cell_type": "code",
   "execution_count": 1,
   "metadata": {},
   "outputs": [
    {
     "name": "stdout",
     "output_type": "stream",
     "text": [
      "36 \n",
      " Numeric Features : ['MSSubClass', 'LotFrontage', 'LotArea', 'OverallQual', 'OverallCond', 'YearBuilt', 'YearRemodAdd', 'MasVnrArea', 'BsmtFinSF1', 'BsmtFinSF2', 'BsmtUnfSF', 'TotalBsmtSF', '1stFlrSF', '2ndFlrSF', 'LowQualFinSF', 'GrLivArea', 'BsmtFullBath', 'BsmtHalfBath', 'FullBath', 'HalfBath', 'BedroomAbvGr', 'KitchenAbvGr', 'TotRmsAbvGrd', 'Fireplaces', 'GarageYrBlt', 'GarageCars', 'GarageArea', 'WoodDeckSF', 'OpenPorchSF', 'EnclosedPorch', '3SsnPorch', 'ScreenPorch', 'PoolArea', 'MiscVal', 'MoSold', 'YrSold']\n",
      "\n"
     ]
    },
    {
     "data": {
      "text/plain": [
       "<Figure size 640x480 with 1 Axes>"
      ]
     },
     "metadata": {},
     "output_type": "display_data"
    },
    {
     "name": "stdout",
     "output_type": "stream",
     "text": [
      " original score: 0.8499463091778436\n",
      " change data range (min: 500, max:2250) score: 0.8835596149765429\n",
      " direct remove outlier score: 0.8894372874380758\n"
     ]
    },
    {
     "name": "stderr",
     "output_type": "stream",
     "text": [
      "/anaconda3/anaconda3/lib/python3.7/site-packages/sklearn/preprocessing/data.py:334: DataConversionWarning: Data with input dtype int64, float64 were all converted to float64 by MinMaxScaler.\n",
      "  return self.partial_fit(X, y)\n",
      "/anaconda3/anaconda3/lib/python3.7/site-packages/sklearn/preprocessing/data.py:334: DataConversionWarning: Data with input dtype int64, float64 were all converted to float64 by MinMaxScaler.\n",
      "  return self.partial_fit(X, y)\n",
      "/anaconda3/anaconda3/lib/python3.7/site-packages/sklearn/preprocessing/data.py:334: DataConversionWarning: Data with input dtype int64, float64 were all converted to float64 by MinMaxScaler.\n",
      "  return self.partial_fit(X, y)\n"
     ]
    }
   ],
   "source": [
    "import pandas as pd\n",
    "import numpy as np\n",
    "import warnings\n",
    "warnings.filterwarnings(\"ignore\")\n",
    "from sklearn.preprocessing import MinMaxScaler\n",
    "from sklearn.model_selection import cross_val_score\n",
    "from sklearn.linear_model import LinearRegression\n",
    "import seaborn as sns\n",
    "import matplotlib.pyplot as plt\n",
    "\n",
    "\n",
    "# read files\n",
    "data_path = '/Users/chloe/Google Drive/Kaggle_Data/kaggle_house_price/'\n",
    "df_train = pd.read_csv(data_path + 'train.csv')\n",
    "train_Y = np.log1p(df_train['SalePrice'])\n",
    "df = df_train.drop(['Id', 'SalePrice'] , axis=1)\n",
    "\n",
    "\n",
    "num_features = []\n",
    "for col in df.columns:\n",
    "    if df[col].dtypes in (\"int64\", \"float64\"):\n",
    "        num_features.append(col)\n",
    "print(f'{len(num_features)} \\n Numeric Features : {num_features}\\n')\n",
    "\n",
    "df = df[num_features]\n",
    "df = df.fillna(-1)\n",
    "MMEncoder = MinMaxScaler()\n",
    "\n",
    "\n",
    "# original 1stFlrSF plot and CV score\n",
    "sns.regplot(x = df['1stFlrSF'], y=train_Y)\n",
    "plt.show();\n",
    "\n",
    "train_X = MMEncoder.fit_transform(df)\n",
    "estimator = LinearRegression()\n",
    "print(f' original score: {cross_val_score(estimator, train_X, train_Y, cv=5).mean()}')\n",
    "\n",
    "\n",
    "# change the range (will not exclude the value) and CV score\n",
    "df[\"1stFlrSF\"] = df[\"1stFlrSF\"].clip(500, 2250)\n",
    "\n",
    "train_X = MMEncoder.fit_transform(df)\n",
    "estimator = LinearRegression()\n",
    "print(f' change data range (min: 500, max:2250) score: {cross_val_score(estimator, train_X, train_Y, cv=5).mean()}')\n",
    "\n",
    "\n",
    "\n",
    "# exclude the outlier directly and the cv score\n",
    "criteria_index = (df[\"1stFlrSF\"]<2250) & (df[\"1stFlrSF\"]>500)\n",
    "df = df[criteria_index]\n",
    "train_Y = train_Y[criteria_index]\n",
    "\n",
    "train_X = MMEncoder.fit_transform(df)\n",
    "estimator = LinearRegression()\n",
    "print(f' direct remove outlier score: {cross_val_score(estimator, train_X, train_Y, cv=5).mean()}')"
   ]
  },
  {
   "cell_type": "code",
   "execution_count": null,
   "metadata": {},
   "outputs": [],
   "source": []
  }
 ],
 "metadata": {
  "kernelspec": {
   "display_name": "Python 3",
   "language": "python",
   "name": "python3"
  },
  "language_info": {
   "codemirror_mode": {
    "name": "ipython",
    "version": 3
   },
   "file_extension": ".py",
   "mimetype": "text/x-python",
   "name": "python",
   "nbconvert_exporter": "python",
   "pygments_lexer": "ipython3",
   "version": "3.7.3"
  }
 },
 "nbformat": 4,
 "nbformat_minor": 2
}
